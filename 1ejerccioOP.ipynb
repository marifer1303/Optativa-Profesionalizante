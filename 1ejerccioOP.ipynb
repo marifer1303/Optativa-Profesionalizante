{
  "nbformat": 4,
  "nbformat_minor": 0,
  "metadata": {
    "colab": {
      "provenance": [],
      "authorship_tag": "ABX9TyPzIPurxZvrW5NqcUQv/HEY",
      "include_colab_link": true
    },
    "kernelspec": {
      "name": "python3",
      "display_name": "Python 3"
    },
    "language_info": {
      "name": "python"
    }
  },
  "cells": [
    {
      "cell_type": "markdown",
      "metadata": {
        "id": "view-in-github",
        "colab_type": "text"
      },
      "source": [
        "<a href=\"https://colab.research.google.com/github/marifer1303/Optativa-Profesionalizante/blob/main/1ejerccioOP.ipynb\" target=\"_parent\"><img src=\"https://colab.research.google.com/assets/colab-badge.svg\" alt=\"Open In Colab\"/></a>"
      ]
    },
    {
      "cell_type": "markdown",
      "source": [
        "Ejercio 1\n",
        "Teoria: Explicacion de series y DataFrame Diferencias y usos de cada estructura\n"
      ],
      "metadata": {
        "id": "KJFQo0BtRtic"
      }
    },
    {
      "cell_type": "code",
      "source": [
        "import pandas as pd\n",
        "import numpy as np"
      ],
      "metadata": {
        "id": "wZ4Zjf6tR6-t"
      },
      "execution_count": 1,
      "outputs": []
    },
    {
      "cell_type": "markdown",
      "source": [
        "CREAR UNA SERIE"
      ],
      "metadata": {
        "id": "Bkz46pcTSA60"
      }
    },
    {
      "cell_type": "code",
      "source": [],
      "metadata": {
        "id": "0sEf2s8ASC6J"
      },
      "execution_count": null,
      "outputs": []
    }
  ]
}