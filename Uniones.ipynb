{
  "nbformat": 4,
  "nbformat_minor": 0,
  "metadata": {
    "colab": {
      "provenance": [],
      "authorship_tag": "ABX9TyPt8GPACvkPD8tUgb4FNOwS",
      "include_colab_link": true
    },
    "kernelspec": {
      "name": "python3",
      "display_name": "Python 3"
    },
    "language_info": {
      "name": "python"
    }
  },
  "cells": [
    {
      "cell_type": "markdown",
      "metadata": {
        "id": "view-in-github",
        "colab_type": "text"
      },
      "source": [
        "<a href=\"https://colab.research.google.com/github/marifer1303/Optativa-Profesionalizante/blob/main/Uniones.ipynb\" target=\"_parent\"><img src=\"https://colab.research.google.com/assets/colab-badge.svg\" alt=\"Open In Colab\"/></a>"
      ]
    },
    {
      "cell_type": "markdown",
      "source": [
        "#***Tipos de uniones(joins) en Python***\n"
      ],
      "metadata": {
        "id": "K2_TLfQ9xxdV"
      }
    },
    {
      "cell_type": "code",
      "source": [
        "import pandas as pd"
      ],
      "metadata": {
        "id": "k96fDaRN0Vpv"
      },
      "execution_count": 9,
      "outputs": []
    },
    {
      "cell_type": "markdown",
      "source": [
        "#***Hacer un data frame***"
      ],
      "metadata": {
        "id": "XrWIf4lGyOY7"
      }
    },
    {
      "cell_type": "code",
      "source": [
        "df1 = pd.DataFrame({\n",
        "    'ID': [1, 2, 3, 4],\n",
        "    'Nombre': ['Juan', 'María', 'Carlos', 'Ana'],\n",
        "    'Departamento': ['Ventas', 'IT', 'Marketing', 'RH']\n",
        "})\n",
        "\n",
        "df2 = pd.DataFrame({\n",
        "    'ID': [3, 4, 5, 6],\n",
        "    'Salario': [50000, 60000, 55000, 65000]\n",
        "})\n",
        "print(\"DataFrame1:\")\n",
        "print(df1)\n",
        "print(\"\\nDataFrame2:\")\n",
        "print(df2)"
      ],
      "metadata": {
        "colab": {
          "base_uri": "https://localhost:8080/"
        },
        "id": "7WPmqEmHyUVH",
        "outputId": "a79a898b-31c2-463b-c31e-60e03aa47252"
      },
      "execution_count": 10,
      "outputs": [
        {
          "output_type": "stream",
          "name": "stdout",
          "text": [
            "DataFrame1:\n",
            "   ID  Nombre Departamento\n",
            "0   1    Juan       Ventas\n",
            "1   2   María           IT\n",
            "2   3  Carlos    Marketing\n",
            "3   4     Ana           RH\n",
            "\n",
            "DataFrame2:\n",
            "   ID  Salario\n",
            "0   3    50000\n",
            "1   4    60000\n",
            "2   5    55000\n",
            "3   6    65000\n"
          ]
        }
      ]
    },
    {
      "cell_type": "markdown",
      "source": [
        "Funsion inner"
      ],
      "metadata": {
        "id": "E-j_dtERzZzG"
      }
    },
    {
      "cell_type": "code",
      "source": [
        "inner_merge = pd.merge(df1, df2, on='ID', how='inner')\n",
        "print(\"\\nFusión inner:\")\n",
        "print(inner_merge)"
      ],
      "metadata": {
        "colab": {
          "base_uri": "https://localhost:8080/"
        },
        "id": "p2PO43u00f3i",
        "outputId": "4ee05afa-aeed-4ad1-c479-2a33e2e89ec4"
      },
      "execution_count": 13,
      "outputs": [
        {
          "output_type": "stream",
          "name": "stdout",
          "text": [
            "\n",
            "Fusión inner:\n",
            "   ID  Nombre Departamento  Salario\n",
            "0   3  Carlos    Marketing    50000\n",
            "1   4     Ana           RH    60000\n"
          ]
        }
      ]
    },
    {
      "cell_type": "markdown",
      "source": [
        "#***Funcion outer***\n"
      ],
      "metadata": {
        "id": "A16czUhj0htN"
      }
    },
    {
      "cell_type": "code",
      "source": [
        "outer_merge = pd.merge(df1, df2, on='ID', how='outer')\n",
        "print(\"\\nFusión outer:\")\n",
        "print(outer_merge)"
      ],
      "metadata": {
        "colab": {
          "base_uri": "https://localhost:8080/"
        },
        "id": "px2rxE1C0lC9",
        "outputId": "dd9a00ca-25cd-41c1-c66c-373ec72bc1dd"
      },
      "execution_count": 14,
      "outputs": [
        {
          "output_type": "stream",
          "name": "stdout",
          "text": [
            "\n",
            "Fusión outer:\n",
            "   ID  Nombre Departamento  Salario\n",
            "0   1    Juan       Ventas      NaN\n",
            "1   2   María           IT      NaN\n",
            "2   3  Carlos    Marketing  50000.0\n",
            "3   4     Ana           RH  60000.0\n",
            "4   5     NaN          NaN  55000.0\n",
            "5   6     NaN          NaN  65000.0\n"
          ]
        }
      ]
    },
    {
      "cell_type": "markdown",
      "source": [
        "funcion left"
      ],
      "metadata": {
        "id": "h5QE_Z8606tC"
      }
    },
    {
      "cell_type": "code",
      "source": [
        "left_merge = pd.merge(df1, df2, on='ID', how='left')\n",
        "print(\"\\nFusión left:\")\n",
        "print(left_merge)"
      ],
      "metadata": {
        "colab": {
          "base_uri": "https://localhost:8080/"
        },
        "id": "S8jfH7LS09FD",
        "outputId": "a49ee917-e3fa-458e-8422-d0df7559a5c7"
      },
      "execution_count": 16,
      "outputs": [
        {
          "output_type": "stream",
          "name": "stdout",
          "text": [
            "\n",
            "Fusión left:\n",
            "   ID  Salario  Nombre Departamento\n",
            "0   3    50000  Carlos    Marketing\n",
            "1   4    60000     Ana           RH\n",
            "2   5    55000     NaN          NaN\n",
            "3   6    65000     NaN          NaN\n"
          ]
        }
      ]
    },
    {
      "cell_type": "markdown",
      "source": [
        "Fusion right"
      ],
      "metadata": {
        "id": "SG36ELTf1Wy5"
      }
    },
    {
      "cell_type": "code",
      "source": [
        "right_merge = pd.merge(df1, df2, on='ID', how='right')\n",
        "print(\"\\nFusión right:\")\n",
        "print(right_merge)"
      ],
      "metadata": {
        "colab": {
          "base_uri": "https://localhost:8080/"
        },
        "id": "8pj-VOuy1ZU-",
        "outputId": "9b062e6a-1741-4512-a179-b5110e059aa7"
      },
      "execution_count": 17,
      "outputs": [
        {
          "output_type": "stream",
          "name": "stdout",
          "text": [
            "\n",
            "Fusión right:\n",
            "   ID  Nombre Departamento  Salario\n",
            "0   3  Carlos    Marketing    50000\n",
            "1   4     Ana           RH    60000\n",
            "2   5     NaN          NaN    55000\n",
            "3   6     NaN          NaN    65000\n"
          ]
        }
      ]
    },
    {
      "cell_type": "code",
      "source": [],
      "metadata": {
        "id": "OBC5s3sR1k9w"
      },
      "execution_count": null,
      "outputs": []
    },
    {
      "cell_type": "markdown",
      "source": [
        "concatenacion"
      ],
      "metadata": {
        "id": "4wqn8i2I1m9a"
      }
    },
    {
      "cell_type": "code",
      "source": [
        "#concatenacion\n",
        "df3 = pd.DataFrame({\n",
        "    'ID': [7, 8],\n",
        "    'Nombre': ['Sofía', 'Pedro'],\n",
        "    'Departamento': ['Finanzas', 'Ventas']\n",
        "})\n",
        "concatenated = pd.concat([df1, df3])\n",
        "print(\"\\nConcatenación de DataFrames:\")\n",
        "print(concatenated)"
      ],
      "metadata": {
        "colab": {
          "base_uri": "https://localhost:8080/"
        },
        "id": "TyMZFZyJ1o01",
        "outputId": "24f1c5d8-4ce2-4ec3-fc4c-c275602d539d"
      },
      "execution_count": 18,
      "outputs": [
        {
          "output_type": "stream",
          "name": "stdout",
          "text": [
            "\n",
            "Concatenación de DataFrames:\n",
            "   ID  Nombre Departamento\n",
            "0   1    Juan       Ventas\n",
            "1   2   María           IT\n",
            "2   3  Carlos    Marketing\n",
            "3   4     Ana           RH\n",
            "0   7   Sofía     Finanzas\n",
            "1   8   Pedro       Ventas\n"
          ]
        }
      ]
    },
    {
      "cell_type": "code",
      "source": [
        "concatenated = pd.concat([df2, df3])\n",
        "print(\"\\nConcatenación de DataFrames:\")\n",
        "print(concatenated)"
      ],
      "metadata": {
        "colab": {
          "base_uri": "https://localhost:8080/"
        },
        "id": "fuTvzeCk2ZjP",
        "outputId": "d624bc0d-1dab-4623-a04b-17a516f9727c"
      },
      "execution_count": 19,
      "outputs": [
        {
          "output_type": "stream",
          "name": "stdout",
          "text": [
            "\n",
            "Concatenación de DataFrames:\n",
            "   ID  Salario Nombre Departamento\n",
            "0   3  50000.0    NaN          NaN\n",
            "1   4  60000.0    NaN          NaN\n",
            "2   5  55000.0    NaN          NaN\n",
            "3   6  65000.0    NaN          NaN\n",
            "0   7      NaN  Sofía     Finanzas\n",
            "1   8      NaN  Pedro       Ventas\n"
          ]
        }
      ]
    }
  ]
}